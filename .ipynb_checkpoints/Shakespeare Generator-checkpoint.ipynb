{
 "cells": [
  {
   "cell_type": "code",
   "execution_count": 1,
   "metadata": {},
   "outputs": [],
   "source": [
    "import tensorflow as tf\n",
    "import numpy as np\n",
    "import time  \n",
    "import os"
   ]
  },
  {
   "cell_type": "code",
   "execution_count": 2,
   "metadata": {},
   "outputs": [],
   "source": [
    "path = 'Data/shakespeare.txt'\n",
    "text = open(path, 'rb').read().decode(encoding = 'utf-8')"
   ]
  },
  {
   "cell_type": "code",
   "execution_count": 3,
   "metadata": {},
   "outputs": [
    {
     "name": "stdout",
     "output_type": "stream",
     "text": [
      "The number of characters in the file including the spaces and all the literals (such as ',\" \\n)\n",
      "Number : 1115394 characters\n"
     ]
    }
   ],
   "source": [
    "print(\"The number of characters in the file including the spaces and all the literals (such as ',\\\" \\\\n)\")\n",
    "print(f\"Number : {len(text)} characters\")"
   ]
  },
  {
   "cell_type": "code",
   "execution_count": 4,
   "metadata": {},
   "outputs": [
    {
     "name": "stdout",
     "output_type": "stream",
     "text": [
      "\t\tThe first 250 characters\n",
      "__________________________________________________\n",
      "\n",
      "First Citizen:\n",
      "Before we proceed any further, hear me speak.\n",
      "\n",
      "All:\n",
      "Speak, speak.\n",
      "\n",
      "First Citizen:\n",
      "You are all resolved rather to die than to famish?\n",
      "\n",
      "All:\n",
      "Resolved. resolved.\n",
      "\n",
      "First Citizen:\n",
      "First, you know Caius Marcius is chief enemy to the people.\n",
      "\n"
     ]
    }
   ],
   "source": [
    "i = 250\n",
    "print(f\"\\t\\tThe first {i} characters\")\n",
    "print(\"_\"*50)\n",
    "print(\"\\n\"+text[:i])"
   ]
  },
  {
   "cell_type": "code",
   "execution_count": 5,
   "metadata": {},
   "outputs": [
    {
     "name": "stdout",
     "output_type": "stream",
     "text": [
      "The number of unique character in the dataset :  65\n"
     ]
    }
   ],
   "source": [
    "vocab = sorted(set(text))\n",
    "print(\"The number of unique character in the dataset : \",len(vocab))"
   ]
  },
  {
   "cell_type": "code",
   "execution_count": 6,
   "metadata": {},
   "outputs": [],
   "source": [
    "char2idx = {u:i for i, u in enumerate(vocab)}\n",
    "idx2char = np.array(vocab)"
   ]
  },
  {
   "cell_type": "code",
   "execution_count": 7,
   "metadata": {},
   "outputs": [],
   "source": [
    "text_as_int  = np.array([char2idx[c] for c in text])"
   ]
  },
  {
   "cell_type": "code",
   "execution_count": 8,
   "metadata": {},
   "outputs": [
    {
     "name": "stdout",
     "output_type": "stream",
     "text": [
      "The first line in text:  First Citizen\n",
      "The first line in int:  [18 47 56 57 58  1 15 47 58 47 64 43 52]\n"
     ]
    }
   ],
   "source": [
    "print(\"The first line in text: \",text[:13])\n",
    "print(\"The first line in int: \",text_as_int[:13])"
   ]
  },
  {
   "cell_type": "code",
   "execution_count": 9,
   "metadata": {},
   "outputs": [],
   "source": [
    "max_length = 100\n",
    "seq_length = max_length\n",
    "examples_per_epoch = len(text)//(seq_length+1)\n",
    "\n",
    "char_dataset = tf.data.Dataset.from_tensor_slices(text_as_int)"
   ]
  },
  {
   "cell_type": "code",
   "execution_count": 10,
   "metadata": {},
   "outputs": [],
   "source": [
    "sequences = char_dataset.batch(seq_length + 1, drop_remainder = True)"
   ]
  },
  {
   "cell_type": "code",
   "execution_count": 11,
   "metadata": {},
   "outputs": [
    {
     "name": "stdout",
     "output_type": "stream",
     "text": [
      "'First Citizen:\\nBefore we proceed any further, hear me speak.\\n\\nAll:\\nSpeak, speak.\\n\\nFirst Citizen:\\nYou '\n"
     ]
    }
   ],
   "source": [
    "for item in sequences.take(1):\n",
    "    print(repr(''.join(idx2char[item.numpy()])))"
   ]
  },
  {
   "cell_type": "code",
   "execution_count": 12,
   "metadata": {},
   "outputs": [],
   "source": [
    "def split_input_target(chunk):\n",
    "    input_text = chunk[:-1]\n",
    "    output_text = chunk[1:]\n",
    "    return input_text, output_text"
   ]
  },
  {
   "cell_type": "code",
   "execution_count": 13,
   "metadata": {},
   "outputs": [],
   "source": [
    "dataset = sequences.map(split_input_target)"
   ]
  },
  {
   "cell_type": "code",
   "execution_count": 14,
   "metadata": {},
   "outputs": [],
   "source": [
    "batch_size = 64\n",
    "buffer_size = 10000"
   ]
  },
  {
   "cell_type": "code",
   "execution_count": 15,
   "metadata": {},
   "outputs": [],
   "source": [
    "dataset = dataset.shuffle(buffer_size).batch(batch_size, drop_remainder = True)"
   ]
  },
  {
   "cell_type": "code",
   "execution_count": 16,
   "metadata": {},
   "outputs": [],
   "source": [
    "vocab_size = len(vocab)\n",
    "embedding_dim = 256\n",
    "rnn_unit = 1024"
   ]
  },
  {
   "cell_type": "code",
   "execution_count": 17,
   "metadata": {},
   "outputs": [],
   "source": [
    "def build_model(vocab_size, embedding_dim, rnn_units, batch_size):\n",
    "    model = tf.keras.Sequential([\n",
    "    tf.keras.layers.Embedding(vocab_size, embedding_dim,\n",
    "                              batch_input_shape=[batch_size, None]),\n",
    "    tf.keras.layers.GRU(rnn_units,\n",
    "                        return_sequences=True,\n",
    "                        stateful=True,\n",
    "                        recurrent_initializer='glorot_uniform'),\n",
    "    tf.keras.layers.Dense(vocab_size)\n",
    "  ])\n",
    "    return model"
   ]
  },
  {
   "cell_type": "code",
   "execution_count": 18,
   "metadata": {},
   "outputs": [],
   "source": [
    "model = build_model(\n",
    "    vocab_size = len(vocab),\n",
    "    embedding_dim=embedding_dim,\n",
    "    rnn_units=rnn_unit,\n",
    "    batch_size=batch_size)"
   ]
  },
  {
   "cell_type": "code",
   "execution_count": 19,
   "metadata": {},
   "outputs": [
    {
     "name": "stdout",
     "output_type": "stream",
     "text": [
      "Model: \"sequential\"\n",
      "_________________________________________________________________\n",
      "Layer (type)                 Output Shape              Param #   \n",
      "=================================================================\n",
      "embedding (Embedding)        (64, None, 256)           16640     \n",
      "_________________________________________________________________\n",
      "gru (GRU)                    (64, None, 1024)          3938304   \n",
      "_________________________________________________________________\n",
      "dense (Dense)                (64, None, 65)            66625     \n",
      "=================================================================\n",
      "Total params: 4,021,569\n",
      "Trainable params: 4,021,569\n",
      "Non-trainable params: 0\n",
      "_________________________________________________________________\n"
     ]
    }
   ],
   "source": [
    "model.summary()"
   ]
  },
  {
   "cell_type": "code",
   "execution_count": 20,
   "metadata": {},
   "outputs": [],
   "source": [
    "loss = tf.keras.losses.SparseCategoricalCrossentropy(from_logits=True)"
   ]
  },
  {
   "cell_type": "code",
   "execution_count": 21,
   "metadata": {},
   "outputs": [],
   "source": [
    "model.compile(optimizer='adam', loss=loss)"
   ]
  },
  {
   "cell_type": "code",
   "execution_count": 22,
   "metadata": {},
   "outputs": [
    {
     "name": "stdout",
     "output_type": "stream",
     "text": [
      "Epoch 1/30\n",
      "172/172 [==============================] - 398s 2s/step - loss: 2.6646\n",
      "Epoch 2/30\n",
      "172/172 [==============================] - 246s 1s/step - loss: 1.9641\n",
      "Epoch 3/30\n",
      "172/172 [==============================] - 245s 1s/step - loss: 1.6948\n",
      "Epoch 4/30\n",
      "172/172 [==============================] - 239s 1s/step - loss: 1.5456\n",
      "Epoch 5/30\n",
      "172/172 [==============================] - 242s 1s/step - loss: 1.4567\n",
      "Epoch 6/30\n",
      "172/172 [==============================] - 253s 1s/step - loss: 1.3955\n",
      "Epoch 7/30\n",
      "172/172 [==============================] - 257s 1s/step - loss: 1.3500\n",
      "Epoch 8/30\n",
      "172/172 [==============================] - 278s 2s/step - loss: 1.3110\n",
      "Epoch 9/30\n",
      "172/172 [==============================] - 275s 2s/step - loss: 1.2768\n",
      "Epoch 10/30\n",
      "172/172 [==============================] - 254s 1s/step - loss: 1.2431\n",
      "Epoch 11/30\n",
      "172/172 [==============================] - 266s 2s/step - loss: 1.2119\n",
      "Epoch 12/30\n",
      "172/172 [==============================] - 263s 2s/step - loss: 1.1787\n",
      "Epoch 13/30\n",
      "172/172 [==============================] - 265s 2s/step - loss: 1.1474\n",
      "Epoch 14/30\n",
      "172/172 [==============================] - 270s 2s/step - loss: 1.1130\n",
      "Epoch 15/30\n",
      "172/172 [==============================] - 299s 2s/step - loss: 1.0798\n",
      "Epoch 16/30\n",
      "172/172 [==============================] - 339s 2s/step - loss: 1.0456\n",
      "Epoch 17/30\n",
      "172/172 [==============================] - 365s 2s/step - loss: 1.0105\n",
      "Epoch 18/30\n",
      "172/172 [==============================] - 324s 2s/step - loss: 0.9753\n",
      "Epoch 19/30\n",
      "172/172 [==============================] - 312s 2s/step - loss: 0.9407\n",
      "Epoch 20/30\n",
      "172/172 [==============================] - 359s 2s/step - loss: 0.9065\n",
      "Epoch 21/30\n",
      "172/172 [==============================] - 310s 2s/step - loss: 0.8768\n",
      "Epoch 22/30\n",
      "172/172 [==============================] - 309s 2s/step - loss: 0.8466\n",
      "Epoch 23/30\n",
      "172/172 [==============================] - 305s 2s/step - loss: 0.8202\n",
      "Epoch 24/30\n",
      "172/172 [==============================] - 338s 2s/step - loss: 0.7971\n",
      "Epoch 25/30\n",
      "172/172 [==============================] - 313s 2s/step - loss: 0.7745\n",
      "Epoch 26/30\n",
      "172/172 [==============================] - 308s 2s/step - loss: 0.7551\n",
      "Epoch 27/30\n",
      "172/172 [==============================] - 357s 2s/step - loss: 0.7376\n",
      "Epoch 28/30\n",
      "172/172 [==============================] - 296s 2s/step - loss: 0.7246\n",
      "Epoch 29/30\n",
      "172/172 [==============================] - 355s 2s/step - loss: 0.7114\n",
      "Epoch 30/30\n",
      "172/172 [==============================] - 342s 2s/step - loss: 0.7015\n"
     ]
    }
   ],
   "source": [
    "history = model.fit(dataset, epochs = 30)"
   ]
  },
  {
   "cell_type": "code",
   "execution_count": 23,
   "metadata": {},
   "outputs": [
    {
     "data": {
      "text/plain": [
       "[<matplotlib.lines.Line2D at 0x261a21dad60>]"
      ]
     },
     "execution_count": 23,
     "metadata": {},
     "output_type": "execute_result"
    },
    {
     "data": {
      "image/png": "[encoded data removed]",
      "text/plain": [
       "<Figure size 432x288 with 1 Axes>"
      ]
     },
     "metadata": {
      "needs_background": "light"
     },
     "output_type": "display_data"
    }
   ],
   "source": [
    "import matplotlib.pyplot as plt\n",
    "plt.plot(history.history['loss'])"
   ]
  },
  {
   "cell_type": "code",
   "execution_count": 24,
   "metadata": {},
   "outputs": [],
   "source": [
    "model.save('saved_model/model.h5') "
   ]
  },
  {
   "cell_type": "code",
   "execution_count": 25,
   "metadata": {},
   "outputs": [],
   "source": [
    "def generate_text(model, start_string):\n",
    "  # Evaluation step (generating text using the learned model)\n",
    "\n",
    "  # Number of characters to generate\n",
    "    num_generate = 1000\n",
    "\n",
    "  # Converting our start string to numbers (vectorizing)\n",
    "    input_eval = [char2idx[s] for s in start_string]\n",
    "    input_eval = tf.expand_dims(input_eval, 0)\n",
    "\n",
    "  # Empty string to store our results\n",
    "    text_generated = []\n",
    "\n",
    "  # Low temperatures results in more predictable text.\n",
    "  # Higher temperatures results in more surprising text.\n",
    "  # Experiment to find the best setting.\n",
    "    temperature = 1.0\n",
    "\n",
    "  # Here batch size == 1\n",
    "    model.reset_states()\n",
    "    for i in range(num_generate):\n",
    "        predictions = model(input_eval)\n",
    "        # remove the batch dimension\n",
    "        predictions = tf.squeeze(predictions, 0)\n",
    "\n",
    "        # using a categorical distribution to predict the character returned by the model\n",
    "        predictions = predictions / temperature\n",
    "        predicted_id = tf.random.categorical(predictions, num_samples=1)[-1,0].numpy()\n",
    "\n",
    "        # We pass the predicted character as the next input to the model\n",
    "        # along with the previous hidden state\n",
    "        input_eval = tf.expand_dims([predicted_id], 0)\n",
    "\n",
    "        text_generated.append(idx2char[predicted_id])\n",
    "\n",
    "    return (start_string + ''.join(text_generated))"
   ]
  },
  {
   "cell_type": "code",
   "execution_count": 26,
   "metadata": {},
   "outputs": [],
   "source": [
    "model = build_model(vocab_size, embedding_dim, rnn_unit, batch_size=1)\n",
    "model.load_weights('saved_model/model.h5')\n",
    "model.build(tf.TensorShape([1, None]))"
   ]
  },
  {
   "cell_type": "code",
   "execution_count": 27,
   "metadata": {},
   "outputs": [
    {
     "name": "stdout",
     "output_type": "stream",
     "text": [
      "His love did bear my need prevail\n",
      "\n",
      "DUCHESS OF YORK:\n",
      "Why, then they should not blame that England comes\n",
      "I was contralt to death.\n",
      "\n",
      "RET:\n",
      "Once,'s it me; but they well deserved his\n",
      "departuades,\n",
      "Have exemblance might be brief,\n",
      "Since I am long betelling. Did not Isabel?\n",
      "I cannot rest; but I'll be gone.\n",
      "\n",
      "GLOUCESTER:\n",
      "I'll do before this is your sons, after the boldness in my breath.\n",
      "\n",
      "LUCENTIO:\n",
      "Nay, I'll cram twenty thousand newlaying hours,\n",
      "Than let him break the swords of work mine honour's reason?\n",
      "\n",
      "Nurse:\n",
      "Then she's her up that sighing fathers' boarth\n",
      "Seeks to his contracious steel,\n",
      "That herbeke more nead Bianca:\n",
      "And who suffice: though he do nothing be but that\n",
      "they part before 'twas we England and us!\n",
      "\n",
      "PETRUCHIO:\n",
      "What say you? no, and goes to\n",
      "her.\n",
      "\n",
      "COMINIUS:\n",
      "You must speak with you: there were mad\n",
      "Pause to him that he should bite its brotherl of Wiltshire;\n",
      "And spit upon him. I shall absort\n",
      "him of thy weaponsmen. First, you\n",
      "callie, Romeo carrying that we last not withal\n",
      "The which it stands y b\n"
     ]
    }
   ],
   "source": [
    "print(generate_text(model, start_string=u\"Hi\"))"
   ]
  },
  {
   "cell_type": "code",
   "execution_count": null,
   "metadata": {},
   "outputs": [],
   "source": []
  }
 ],
 "metadata": {
  "kernelspec": {
   "display_name": "Python 3",
   "language": "python",
   "name": "python3"
  },
  "language_info": {
   "codemirror_mode": {
    "name": "ipython",
    "version": 3
   },
   "file_extension": ".py",
   "mimetype": "text/x-python",
   "name": "python",
   "nbconvert_exporter": "python",
   "pygments_lexer": "ipython3",
   "version": "3.8.3"
  }
 },
 "nbformat": 4,
 "nbformat_minor": 4
}
